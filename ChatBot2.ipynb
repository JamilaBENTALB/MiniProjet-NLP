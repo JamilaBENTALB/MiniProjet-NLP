{
  "nbformat": 4,
  "nbformat_minor": 0,
  "metadata": {
    "colab": {
      "name": "ChatBot2",
      "provenance": [],
      "collapsed_sections": []
    },
    "kernelspec": {
      "name": "python3",
      "display_name": "Python 3"
    },
    "language_info": {
      "name": "python"
    }
  },
  "cells": [
    {
      "cell_type": "code",
      "metadata": {
        "id": "L6ZD8nKS2o06"
      },
      "source": [
        "import random\n",
        "\n",
        "R_EATING = \"I don't like eating anything because I'm a bot obviously!\"\n",
        "R_ADVICE = \"If I were you, I would go to the internet and type exactly what you wrote there!\"\n"
      ],
      "execution_count": 16,
      "outputs": []
    },
    {
      "cell_type": "code",
      "metadata": {
        "id": "uvhNXsSv27kd"
      },
      "source": [
        "def unknown():\n",
        "    response = [\"Could you please re-phrase that? \",\n",
        "                \"...\",\n",
        "                \"Sounds about right.\",\n",
        "                \"What does that mean?\"][\n",
        "        random.randrange(4)]\n",
        "    return response"
      ],
      "execution_count": 17,
      "outputs": []
    },
    {
      "cell_type": "code",
      "metadata": {
        "colab": {
          "base_uri": "https://localhost:8080/"
        },
        "id": "q6IZNmpH80Zd",
        "outputId": "b2127df7-c9f8-46b1-87b5-db4d1eded70b"
      },
      "source": [
        "import re\n",
        "def message_probability(user_message, recognised_words, single_response=False, required_words=[]):\n",
        "    message_certainty = 0\n",
        "    has_required_words = True\n",
        "\n",
        "    # Counts how many words are present in each predefined message\n",
        "    for word in user_message:\n",
        "        if word in recognised_words:\n",
        "            message_certainty += 1\n",
        "\n",
        "    # Calculates the percent of recognised words in a user message\n",
        "    percentage = float(message_certainty) / float(len(recognised_words))\n",
        "\n",
        "    # Checks that the required words are in the string\n",
        "    for word in required_words:\n",
        "        if word not in user_message:\n",
        "            has_required_words = False\n",
        "            break\n",
        "\n",
        "    # Must either have the required words, or be a single response\n",
        "    if has_required_words or single_response:\n",
        "        return int(percentage * 100)\n",
        "    else:\n",
        "        return 0\n",
        "\n",
        "\n",
        "def check_all_messages(message):\n",
        "    highest_prob_list = {}\n",
        "\n",
        "    # Simplifies response creation / adds it to the dict\n",
        "    def response(bot_response, list_of_words, single_response=False, required_words=[]):\n",
        "        nonlocal highest_prob_list\n",
        "        highest_prob_list[bot_response] = message_probability(message, list_of_words, single_response, required_words)\n",
        "\n",
        "    # Responses -------------------------------------------------------------------------------------------------------\n",
        "    response('Hello!', ['hello', 'hi', 'hey', 'sup', 'heyo'], single_response=True)\n",
        "    response('See you!', ['bye', 'goodbye'], single_response=True)\n",
        "    response('I\\'m doing fine, and you?', ['how', 'are', 'you', 'doing'], required_words=['how'])\n",
        "    response('Hi there, how can I help?',['Hi', 'How are you', 'Is anyone there?', 'Hello', 'Good day'], single_response=True)\n",
        "    response('You\\'re welcome!', ['thank', 'thanks'], single_response=True)\n",
        "    response('Thank you!', ['i', 'love', 'code', 'palace'], required_words=['code', 'palace'])\n",
        "\n",
        "    # Longer responses\n",
        "    response(R_ADVICE, ['give', 'advice'], required_words=['advice'])\n",
        "    response(R_EATING, ['what', 'you', 'eat'], required_words=['you', 'eat'])\n",
        "\n",
        "    best_match = max(highest_prob_list, key=highest_prob_list.get)\n",
        "    # print(highest_prob_list)\n",
        "    # print(f'Best match = {best_match} | Score: {highest_prob_list[best_match]}')\n",
        "\n",
        "    return unknown() if highest_prob_list[best_match] < 1 else best_match\n",
        "\n",
        "\n",
        "# Used to get the response\n",
        "def get_response(user_input):\n",
        "    split_message = re.split(r'\\s+|[,;?!.-]\\s*', user_input.lower())\n",
        "    response = check_all_messages(split_message)\n",
        "    return response\n",
        "\n",
        "\n",
        "# Testing the response system\n",
        "while True:\n",
        "    print('Bot: ' + get_response(input('You: ')))"
      ],
      "execution_count": null,
      "outputs": [
        {
          "output_type": "stream",
          "name": "stdout",
          "text": [
            "You: hi\n",
            "Bot: Hello!\n",
            "You: how are you\n",
            "Bot: I'm doing fine, and you?\n",
            "You: i m fine thank you\n",
            "Bot: You're welcome!\n",
            "You: ,i would like ask you for some advice \n",
            "Bot: If I were you, I would go to the internet and type exactly what you wrote there!\n",
            "You: what do you like to eat ?\n",
            "Bot: I don't like eating anything because I'm a bot obviously!\n",
            "You: ok good by\n",
            "Bot: ...\n"
          ]
        }
      ]
    }
  ]
}