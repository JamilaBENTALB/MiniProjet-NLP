{
  "nbformat": 4,
  "nbformat_minor": 0,
  "metadata": {
    "colab": {
      "name": "ChatBotArabe",
      "provenance": [],
      "collapsed_sections": []
    },
    "kernelspec": {
      "display_name": "Python 3",
      "name": "python3"
    },
    "language_info": {
      "name": "python"
    }
  },
  "cells": [
    {
      "cell_type": "code",
      "metadata": {
        "id": "L6ZD8nKS2o06"
      },
      "source": [
        "import random\n",
        "\n",
        "R_EATING = \"أنا لا أحب أكل أي شيء لأنني روبوت واضح!\"\n",
        "R_ADVICE = \"لو كنت مكانك ، كنت سأذهب إلى الإنترنت وأكتب بالضبط ما كتبته هناك!\"\n"
      ],
      "execution_count": 34,
      "outputs": []
    },
    {
      "cell_type": "code",
      "metadata": {
        "id": "uvhNXsSv27kd"
      },
      "source": [
        "def unknown():\n",
        "    response = [\"هل يمكنك إعادة صياغة ذلك من فضلك؟ \",\n",
        "                \"...\",\n",
        "                \"تبدو صحيحة.\",\n",
        "                \"ماذا يعني ذلك؟\"][\n",
        "        random.randrange(4)]\n",
        "    return response"
      ],
      "execution_count": 35,
      "outputs": []
    },
    {
      "cell_type": "code",
      "metadata": {
        "colab": {
          "base_uri": "https://localhost:8080/"
        },
        "id": "q6IZNmpH80Zd",
        "outputId": "172face0-90b8-4fa2-862e-666a1df76f22"
      },
      "source": [
        "import re\n",
        "def message_probability(user_message, recognised_words, single_response=False, required_words=[]):\n",
        "    message_certainty = 0\n",
        "    has_required_words = True\n",
        "\n",
        "    # Counts how many words are present in each predefined message\n",
        "    for word in user_message:\n",
        "        if word in recognised_words:\n",
        "            message_certainty += 1\n",
        "\n",
        "    # Calculates the percent of recognised words in a user message\n",
        "    percentage = float(message_certainty) / float(len(recognised_words))\n",
        "\n",
        "    # Checks that the required words are in the string\n",
        "    for word in required_words:\n",
        "        if word not in user_message:\n",
        "            has_required_words = False\n",
        "            break\n",
        "\n",
        "    # Must either have the required words, or be a single response\n",
        "    if has_required_words or single_response:\n",
        "        return int(percentage * 100)\n",
        "    else:\n",
        "        return 0\n",
        "\n",
        "\n",
        "def check_all_messages(message):\n",
        "    highest_prob_list = {}\n",
        "\n",
        "    # Simplifies response creation / adds it to the dict\n",
        "    def response(bot_response, list_of_words, single_response=False, required_words=[]):\n",
        "        nonlocal highest_prob_list\n",
        "        highest_prob_list[bot_response] = message_probability(message, list_of_words, single_response, required_words)\n",
        "\n",
        "    # Responses -------------------------------------------------------------------------------------------------------\n",
        "    response('أهلا!', ['أهلا', 'مرحبا', 'سلام'], single_response=True)\n",
        "    response('اراك لاحقا!', ['باي', 'الى اللقاء'], single_response=True)\n",
        "    response('انا بخير شكرا و انت ', ['كيف', 'حالك'], required_words=['كيف'])\n",
        "    response(' مرحبا كيف يمنني ان اساعدك ',['هاي', 'كيف حالك', 'هل يوجد احد', 'يوم سعيد'], single_response=True)\n",
        "    response('مرحبا', ['شكرا لك', 'شكرا'], single_response=True)\n",
        "    \n",
        "\n",
        "    # Longer responses\n",
        "    response(R_ADVICE, ['اعطيك', 'نصيحة'], required_words=['نصيحة'])\n",
        "    response(R_EATING, ['مادا', 'تحب', 'تاكل'], required_words=['تحب', 'تاكل'])\n",
        "\n",
        "    best_match = max(highest_prob_list, key=highest_prob_list.get)\n",
        "    # print(highest_prob_list)\n",
        "    # print(f'Best match = {best_match} | Score: {highest_prob_list[best_match]}')\n",
        "\n",
        "    return unknown() if highest_prob_list[best_match] < 1 else best_match\n",
        "\n",
        "\n",
        "# Used to get the response\n",
        "def get_response(user_input):\n",
        "    split_message = re.split(r'\\s+|[,;?!.-]\\s*', user_input.lower())\n",
        "    response = check_all_messages(split_message)\n",
        "    return response\n",
        "\n",
        "\n",
        "# Testing the response system\n",
        "while True:\n",
        "    print('Bot: ' + get_response(input('انت: ')))"
      ],
      "execution_count": null,
      "outputs": [
        {
          "output_type": "stream",
          "name": "stdout",
          "text": [
            "انت: سلام\n",
            "Bot: أهلا!\n",
            "انت: كيف حالك\n",
            "Bot: انا بخير شكرا و انت \n",
            "انت: بخير شكرا\n",
            "Bot: مرحبا\n",
            "انت: اريد ان اطلب منك نصيحة\n",
            "Bot: لو كنت مكانك ، كنت سأذهب إلى الإنترنت وأكتب بالضبط ما كتبته هناك!\n",
            "انت: مادا تحب ان تاكل\n",
            "Bot: أنا لا أحب أكل أي شيء لأنني روبوت واضح!\n",
            "انت: حسنا شكرا \n",
            "Bot: مرحبا\n",
            "انت: الى اللقاء\n",
            "Bot: ...\n",
            "انت: باي\n",
            "Bot: اراك لاحقا!\n"
          ]
        }
      ]
    }
  ]
}